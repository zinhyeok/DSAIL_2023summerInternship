{
 "cells": [
  {
   "cell_type": "code",
   "execution_count": 26,
   "metadata": {},
   "outputs": [
    {
     "name": "stdout",
     "output_type": "stream",
     "text": [
      "Setup Complete\n",
      "\n"
     ]
    }
   ],
   "source": [
    "#Setting up prerequisites\n",
    "import pandas as pd\n",
    "import numpy as np\n",
    "import math\n",
    "import re\n",
    "import sklearn\n",
    "from scipy.sparse import csr_matrix\n",
    "import matplotlib.pyplot as plt\n",
    "import seaborn as sns\n",
    "from surprise import Reader, Dataset, SVD, evaluate\n",
    "sns.set_style(\"darkgrid\")\n",
    "\n",
    "from cvxpy import *\n",
    "from numpy import matrix\n",
    "\n",
    "print(\"Setup Complete\\n\")"
   ]
  },
  {
   "cell_type": "code",
   "execution_count": 2,
   "metadata": {},
   "outputs": [
    {
     "name": "stdout",
     "output_type": "stream",
     "text": [
      "Dataset 1 shape: (1024, 3)\n",
      "-Dataset examples-\n",
      "      Cust_Id  Rating        Date\n",
      "0          1:     NaN         NaN\n",
      "100   2630337     5.0  20050310.0\n",
      "200    573434     4.0  20040526.0\n",
      "300    638824     5.0  20040519.0\n",
      "400   1653834     4.0  20040822.0\n",
      "500   1033930     3.0  20050811.0\n",
      "600    349407     5.0  20050102.0\n",
      "700    656399     4.0  20030920.0\n",
      "800   1456369     4.0  20030708.0\n",
      "900    253037     3.0  20050805.0\n",
      "1000  1369550     3.0  20041011.0\n",
      "float64\n"
     ]
    }
   ],
   "source": [
    "df1 = pd.read_csv('netflix-prize-data/toy_combined_data.txt', header = None, names = ['Cust_Id', 'Rating', 'Date'], usecols = [0,1,2])\n",
    "df1['Rating'] = df1['Rating'].astype(float)\n",
    "df1['Date'] = df1['Date'].astype(str)\n",
    "df1['Date'] = df1['Date'].map( lambda s : (s[:4])+(s[5:7])+(s[8:]))\n",
    "df1['Date'] = df1['Date'].astype(float)\n",
    "print('Dataset 1 shape: {}'.format(df1.shape))\n",
    "print('-Dataset examples-')\n",
    "print(df1.iloc[::100, :])\n",
    "print(df1['Date'].dtype)\n",
    "df = df1"
   ]
  },
  {
   "cell_type": "code",
   "execution_count": 3,
   "metadata": {},
   "outputs": [
    {
     "name": "stdout",
     "output_type": "stream",
     "text": [
      "See Overview of the Data\n"
     ]
    },
    {
     "data": {
      "image/png": "[encoded data removed]",
      "text/plain": [
       "<Figure size 1080x720 with 1 Axes>"
      ]
     },
     "metadata": {},
     "output_type": "display_data"
    }
   ],
   "source": [
    "#Seeing the distribution of ratings given by the users\n",
    "print(\"See Overview of the Data\")\n",
    "p = df.groupby('Rating')['Rating'].agg(['count'])\n",
    "# get movie count\n",
    "movie_count = df.isnull().sum()[1]\n",
    "# get customer count\n",
    "cust_count = df['Cust_Id'].nunique() - movie_count\n",
    "# get rating count\n",
    "rating_count = df['Cust_Id'].count() - movie_count\n",
    "ax = p.plot(kind = 'barh', legend = False, figsize = (15,10))\n",
    "plt.title('Total pool: {:,} Movies, {:,} customers, {:,} ratings given'.format(movie_count, cust_count, rating_count), fontsize=20)\n",
    "plt.axis('off')\n",
    "for i in range(1,6):\n",
    "    ax.text(p.iloc[i-1][0]/4, i-1, 'Rated {}: {:.0f}%'.format(i, p.iloc[i-1][0]*100 / p.sum()[0]), color = 'white', weight = 'bold')"
   ]
  },
  {
   "cell_type": "code",
   "execution_count": 4,
   "metadata": {},
   "outputs": [
    {
     "name": "stdout",
     "output_type": "stream",
     "text": [
      "Movie IDs extracted from the extra rows given\n"
     ]
    }
   ],
   "source": [
    "#Adding movie IDs to the dataset\n",
    "movie_np = []\n",
    "movie_id = 0\n",
    "for x in range(df.shape[0]):\n",
    "    if(np.isnan(df.iloc[x]['Rating'])):\n",
    "        movie_id = movie_id+1\n",
    "    movie_np = np.append(movie_np,movie_id)\n",
    "\n",
    "#print(movie_np)\n",
    "#print(len(movie_np))\n",
    "df['Movie_Id'] = movie_np.astype(int)\n",
    "print(\"Movie IDs extracted from the extra rows given\")"
   ]
  },
  {
   "cell_type": "code",
   "execution_count": 5,
   "metadata": {},
   "outputs": [
    {
     "name": "stdout",
     "output_type": "stream",
     "text": [
      "-Dataset examples-\n",
      "      Cust_Id  Rating        Date  Movie_Id\n",
      "1     1488844     3.0  20050906.0         1\n",
      "101   1155747     3.0  20050703.0         1\n",
      "201   1141189     4.0  20041215.0         1\n",
      "301   2256485     1.0  20040819.0         1\n",
      "401   2322840     3.0  20050712.0         1\n",
      "501     45117     5.0  20050815.0         1\n",
      "602   2596999     4.0  20051007.0         2\n",
      "703   1644750     3.0  20030319.0         3\n",
      "803    372528     3.0  20040630.0         3\n",
      "903   1115632     3.0  20031124.0         3\n",
      "1003  2085230     4.0  20040315.0         3\n",
      "\n",
      "\n",
      "These are the final datatypes of the dataset\n",
      "Cust_Id       int64\n",
      "Rating      float64\n",
      "Date        float64\n",
      "Movie_Id      int64\n",
      "dtype: object\n"
     ]
    },
    {
     "name": "stderr",
     "output_type": "stream",
     "text": [
      "/usr/lib/python3/dist-packages/ipykernel_launcher.py:3: SettingWithCopyWarning: \n",
      "A value is trying to be set on a copy of a slice from a DataFrame.\n",
      "Try using .loc[row_indexer,col_indexer] = value instead\n",
      "\n",
      "See the caveats in the documentation: http://pandas.pydata.org/pandas-docs/stable/indexing.html#indexing-view-versus-copy\n",
      "  This is separate from the ipykernel package so we can avoid doing imports until\n"
     ]
    }
   ],
   "source": [
    "# remove the extra Movie ID rows\n",
    "df = df[pd.notnull(df['Rating'])]\n",
    "df['Cust_Id'] = df['Cust_Id'].astype(int)\n",
    "print('-Dataset examples-')\n",
    "print(df.iloc[::100, :])\n",
    "\n",
    "\n",
    "print(\"\\n\\nThese are the final datatypes of the dataset\")\n",
    "print(df.dtypes)"
   ]
  },
  {
   "cell_type": "code",
   "execution_count": 6,
   "metadata": {},
   "outputs": [
    {
     "name": "stdout",
     "output_type": "stream",
     "text": [
      "(1009, 3)\n"
     ]
    }
   ],
   "source": [
    "#Creating Data Matrix\n",
    "df_matrix=pd.pivot_table(df,values='Rating',index='Cust_Id',columns='Movie_Id')\n",
    "print(df_matrix.shape)"
   ]
  },
  {
   "cell_type": "code",
   "execution_count": 7,
   "metadata": {},
   "outputs": [
    {
     "name": "stdout",
     "output_type": "stream",
     "text": [
      "See some Movie ID- Movie Title Mapping : \n",
      "\n",
      "            Year                          Name\n",
      "Movie_Id                                      \n",
      "1         2003.0               Dinosaur Planet\n",
      "2         2004.0    Isle of Man TT 2004 Review\n",
      "3         1997.0                     Character\n",
      "4         1994.0  Paula Abdul's Get Up & Dance\n",
      "5         2004.0      The Rise and Fall of ECW\n",
      "6         1997.0                          Sick\n",
      "7         1992.0                         8 Man\n",
      "8         2004.0    What the #$*! Do We Know!?\n"
     ]
    }
   ],
   "source": [
    "#Loading the Movie ID- Movie Title Mapping File\n",
    "\n",
    "df_title = pd.read_csv('netflix-prize-data/movie_titles.csv', encoding = \"ISO-8859-1\", header = None, names = ['Movie_Id', 'Year', 'Name'])\n",
    "df_title.set_index('Movie_Id', inplace = True)\n",
    "print(\"See some Movie ID- Movie Title Mapping : \\n\")\n",
    "print (df_title.head(8))"
   ]
  },
  {
   "cell_type": "code",
   "execution_count": 8,
   "metadata": {},
   "outputs": [
    {
     "name": "stdout",
     "output_type": "stream",
     "text": [
      "\n",
      "\n",
      "Data Cleaning Complete.\n",
      " See head of the Data Matrix:\n",
      "\n",
      "Movie_Id    1   2    3\n",
      "Cust_Id               \n",
      "915       5.0 NaN  NaN\n",
      "1333      NaN NaN  4.0\n",
      "2442      3.0 NaN  NaN\n",
      "3321      3.0 NaN  NaN\n",
      "4326      4.0 NaN  NaN\n",
      "\n",
      "Num of movies = 3\n",
      "Num of users = 1009\n"
     ]
    }
   ],
   "source": [
    "print(\"\\n\\nData Cleaning Complete.\\n See head of the Data Matrix:\\n\")\n",
    "print(df_matrix.head())\n",
    "\n",
    "n_movies = movie_count\n",
    "n_customers = cust_count\n",
    "\n",
    "print(\"\\nNum of movies =\", movie_count)\n",
    "print(\"Num of users =\", cust_count)"
   ]
  },
  {
   "cell_type": "code",
   "execution_count": 9,
   "metadata": {},
   "outputs": [
    {
     "name": "stdout",
     "output_type": "stream",
     "text": [
      "Movie_Id    1    2    3\n",
      "Cust_Id                \n",
      "915       5.0  0.0  0.0\n",
      "1333      0.0  0.0  4.0\n",
      "2442      3.0  0.0  0.0\n",
      "3321      3.0  0.0  0.0\n",
      "4326      4.0  0.0  0.0\n"
     ]
    }
   ],
   "source": [
    "#Choosing the number of latent attributes\n",
    "n_attr= 100*1000000\n",
    "#print(type(n_attr),type(n_movies), type(n_customers))\n",
    "Q = Variable((n_attr,n_movies))\n",
    "P = Variable((n_attr, n_customers))\n",
    "\n",
    "\n",
    "\n",
    "acq_data = df_matrix.fillna(0.0)\n",
    "print(acq_data.head())\n",
    "\n"
   ]
  },
  {
   "cell_type": "code",
   "execution_count": 49,
   "metadata": {},
   "outputs": [],
   "source": [
    "class MF():\n",
    "\n",
    "    def __init__(self, R, K, alpha, beta, iterations):\n",
    "        \"\"\"\n",
    "        Perform matrix factorization to predict empty\n",
    "        entries in a matrix.\n",
    "\n",
    "        Arguments\n",
    "        - R (ndarray)   : user-item rating matrix\n",
    "        - K (int)       : number of latent dimensions\n",
    "        - alpha (float) : learning rate\n",
    "        - beta (float)  : regularization parameter\n",
    "        \"\"\"\n",
    "\n",
    "        self.R = R\n",
    "        self.num_users, self.num_items = R.shape\n",
    "        self.K = K\n",
    "        self.alpha = alpha\n",
    "        self.beta = beta\n",
    "        self.iterations = iterations\n",
    "\n",
    "    def train(self):\n",
    "        # Initialize user and item latent feature matrice\n",
    "        self.P = np.random.normal(scale=1./self.K, size=(self.num_users, self.K))\n",
    "        self.Q = np.random.normal(scale=1./self.K, size=(self.num_items, self.K))\n",
    "\n",
    "        # Initialize the biases\n",
    "        self.b_u = np.zeros(self.num_users)\n",
    "        self.b_i = np.zeros(self.num_items)\n",
    "        self.b = np.mean(self.R[np.where(self.R != 0)])\n",
    "\n",
    "        # Create a list of training samples\n",
    "        self.samples = [\n",
    "            (i, j, self.R[i, j])\n",
    "            for i in range(self.num_users)\n",
    "            for j in range(self.num_items)\n",
    "            if self.R[i, j] > 0\n",
    "        ]\n",
    "\n",
    "        # Perform stochastic gradient descent for number of iterations\n",
    "        training_process = []\n",
    "        for i in range(self.iterations):\n",
    "            np.random.shuffle(self.samples)\n",
    "            self.sgd()\n",
    "            mse = self.mse()\n",
    "            training_process.append((i, mse))\n",
    "            if (i+1) % 100 == 0:\n",
    "                print(\"Iteration: %d ; error = %.4f\" % (i+1, mse))\n",
    "\n",
    "        return training_process\n",
    "\n",
    "    def mse(self):\n",
    "        \"\"\"\n",
    "        A function to compute the total mean square error\n",
    "        \"\"\"\n",
    "        xs, ys = self.R.nonzero()\n",
    "        predicted = self.full_matrix()\n",
    "        error = 0\n",
    "        for x, y in zip(xs, ys):\n",
    "            error += pow(self.R[x, y] - predicted[x, y], 2)\n",
    "        return np.sqrt(error)\n",
    "\n",
    "    def sgd(self):\n",
    "        \"\"\"\n",
    "        Perform stochastic graident descent\n",
    "        \"\"\"\n",
    "        for i, j, r in self.samples:\n",
    "            # Computer prediction and error\n",
    "            prediction = self.get_rating(i, j)\n",
    "            e = (r - prediction)\n",
    "\n",
    "            # Update biases\n",
    "            self.b_u[i] += self.alpha * (e - self.beta * self.b_u[i])\n",
    "            self.b_i[j] += self.alpha * (e - self.beta * self.b_i[j])\n",
    "\n",
    "            # Update user and item latent feature matrices\n",
    "            self.P[i, :] += self.alpha * (e * self.Q[j, :] - self.beta * self.P[i,:])\n",
    "            self.Q[j, :] += self.alpha * (e * self.P[i, :] - self.beta * self.Q[j,:])\n",
    "\n",
    "    def get_rating(self, i, j):\n",
    "        \"\"\"\n",
    "        Get the predicted rating of user i and item j\n",
    "        \"\"\"\n",
    "        prediction = self.b + self.b_u[i] + self.b_i[j] + self.P[i, :].dot(self.Q[j, :].T)\n",
    "        return prediction\n",
    "\n",
    "    def full_matrix(self):\n",
    "        \"\"\"\n",
    "        Computer the full matrix using the resultant biases, P and Q\n",
    "        \"\"\"\n",
    "        return self.b + self.b_u[:,np.newaxis] + self.b_i[np.newaxis:,] + self.P.dot(self.Q.T)"
   ]
  },
  {
   "cell_type": "code",
   "execution_count": 50,
   "metadata": {},
   "outputs": [
    {
     "name": "stdout",
     "output_type": "stream",
     "text": [
      "\n",
      "P x Q:\n",
      "[[4.46271506 3.82325605 3.80535557]\n",
      " [3.85422058 3.64783311 3.68900504]\n",
      " [3.36439893 3.43993058 3.44318097]\n",
      " ...\n",
      " [3.58337245 3.46726285 3.37777364]\n",
      " [3.91898975 3.63739457 3.58991505]\n",
      " [3.63308644 3.42857823 3.47186301]]\n",
      "\n",
      "Global bias:\n",
      "3.6787463271302645\n",
      "\n",
      "User bias:\n",
      "[ 0.20857453  0.06703809 -0.12422918 ... -0.10967525  0.04237086\n",
      " -0.10272106]\n",
      "\n",
      "Item bias:\n",
      "[ 0.0937364  -0.10371626 -0.10917139]\n"
     ]
    }
   ],
   "source": [
    "#R = np.array([\n",
    "#    [5, 3, 0, 1],\n",
    "#    [4, 0, 0, 1],\n",
    "#    [1, 1, 0, 5],\n",
    "#    [1, 0, 0, 4],\n",
    "#    [0, 1, 5, 4],\n",
    "#])\n",
    "\n",
    "R = np.array(acq_data)\n",
    "\n",
    "mf = MF(R, K=100, alpha=0.01, beta=0.01, iterations=20)\n",
    "training_process = mf.train()\n",
    "print()\n",
    "print(\"P x Q:\")\n",
    "print(mf.full_matrix())\n",
    "print()\n",
    "print(\"Global bias:\")\n",
    "print(mf.b)\n",
    "print()\n",
    "print(\"User bias:\")\n",
    "print(mf.b_u)\n",
    "print()\n",
    "print(\"Item bias:\")\n",
    "print(mf.b_i)"
   ]
  },
  {
   "cell_type": "code",
   "execution_count": 51,
   "metadata": {},
   "outputs": [
    {
     "name": "stdout",
     "output_type": "stream",
     "text": [
      "This is the Result for Training Set:\n",
      "\n"
     ]
    },
    {
     "data": {
      "image/png": "[encoded data removed]",
      "text/plain": [
       "<Figure size 1152x288 with 1 Axes>"
      ]
     },
     "metadata": {},
     "output_type": "display_data"
    }
   ],
   "source": [
    "x = [x for x, y in training_process]\n",
    "y = [y for x, y in training_process]\n",
    "plt.figure(figsize=((16,4)))\n",
    "plt.plot(x, np.sqrt(y))\n",
    "plt.xticks(x, x)\n",
    "\n",
    "print(\"This is the Result for Training Set:\\n\")\n",
    "plt.xlabel(\"Iterations\")\n",
    "plt.ylabel(\"Root Mean Square Error\")\n",
    "plt.grid(axis=\"y\")"
   ]
  },
  {
   "cell_type": "code",
   "execution_count": 58,
   "metadata": {},
   "outputs": [
    {
     "name": "stdout",
     "output_type": "stream",
     "text": [
      "Original:\n",
      " [[5 3 0 1]\n",
      " [4 0 0 1]\n",
      " [1 1 0 5]\n",
      " [1 0 0 4]\n",
      " [0 1 5 4]]\n",
      "Test Set:\n",
      " [[5 3 0 1]\n",
      " [4 0 0 1]\n",
      " [0 1 0 5]\n",
      " [1 0 0 4]\n",
      " [0 1 5 4]]\n",
      "MSE= 0.22360679774997896\n",
      "Iteration: 100 ; error = 4.3799\n",
      "Iteration: 200 ; error = 0.3920\n",
      "Iteration: 300 ; error = 0.1484\n",
      "Iteration: 400 ; error = 0.0773\n",
      "Iteration: 500 ; error = 0.0555\n",
      "Iteration: 600 ; error = 0.0488\n",
      "Iteration: 700 ; error = 0.0465\n",
      "Iteration: 800 ; error = 0.0457\n",
      "Iteration: 900 ; error = 0.0452\n",
      "Iteration: 1000 ; error = 0.0449\n",
      "Iteration: 1100 ; error = 0.0447\n",
      "Iteration: 1200 ; error = 0.0445\n",
      "Iteration: 1300 ; error = 0.0444\n",
      "Iteration: 1400 ; error = 0.0442\n",
      "Iteration: 1500 ; error = 0.0440\n",
      "Iteration: 1600 ; error = 0.0439\n",
      "Iteration: 1700 ; error = 0.0438\n",
      "Iteration: 1800 ; error = 0.0437\n",
      "Iteration: 1900 ; error = 0.0436\n",
      "Iteration: 2000 ; error = 0.0434\n",
      "Iteration: 2100 ; error = 0.0433\n",
      "Iteration: 2200 ; error = 0.0433\n",
      "Iteration: 2300 ; error = 0.0431\n",
      "Iteration: 2400 ; error = 0.0430\n",
      "Iteration: 2500 ; error = 0.0430\n",
      "Iteration: 2600 ; error = 0.0429\n",
      "Iteration: 2700 ; error = 0.0429\n",
      "Iteration: 2800 ; error = 0.0427\n",
      "Iteration: 2900 ; error = 0.0426\n",
      "Iteration: 3000 ; error = 0.0426\n",
      "Iteration: 3100 ; error = 0.0425\n",
      "Iteration: 3200 ; error = 0.0425\n",
      "Iteration: 3300 ; error = 0.0423\n",
      "Iteration: 3400 ; error = 0.0423\n",
      "Iteration: 3500 ; error = 0.0423\n",
      "Iteration: 3600 ; error = 0.0422\n",
      "Iteration: 3700 ; error = 0.0421\n",
      "Iteration: 3800 ; error = 0.0420\n",
      "Iteration: 3900 ; error = 0.0420\n",
      "Iteration: 4000 ; error = 0.0419\n",
      "Iteration: 4100 ; error = 0.0420\n",
      "Iteration: 4200 ; error = 0.0418\n",
      "Iteration: 4300 ; error = 0.0418\n",
      "Iteration: 4400 ; error = 0.0418\n",
      "Iteration: 4500 ; error = 0.0418\n",
      "Iteration: 4600 ; error = 0.0417\n",
      "Iteration: 4700 ; error = 0.0417\n",
      "Iteration: 4800 ; error = 0.0416\n",
      "Iteration: 4900 ; error = 0.0416\n",
      "Iteration: 5000 ; error = 0.0416\n",
      "Iteration: 5100 ; error = 0.0416\n",
      "Iteration: 5200 ; error = 0.0415\n",
      "Iteration: 5300 ; error = 0.0415\n",
      "Iteration: 5400 ; error = 0.0414\n",
      "Iteration: 5500 ; error = 0.0414\n",
      "Iteration: 5600 ; error = 0.0413\n",
      "Iteration: 5700 ; error = 0.0413\n",
      "Iteration: 5800 ; error = 0.0413\n",
      "Iteration: 5900 ; error = 0.0413\n",
      "Iteration: 6000 ; error = 0.0414\n",
      "Iteration: 6100 ; error = 0.0413\n",
      "Iteration: 6200 ; error = 0.0412\n",
      "Iteration: 6300 ; error = 0.0412\n",
      "Iteration: 6400 ; error = 0.0412\n",
      "Iteration: 6500 ; error = 0.0411\n",
      "Iteration: 6600 ; error = 0.0412\n",
      "Iteration: 6700 ; error = 0.0412\n",
      "Iteration: 6800 ; error = 0.0411\n",
      "Iteration: 6900 ; error = 0.0411\n",
      "Iteration: 7000 ; error = 0.0411\n",
      "Iteration: 7100 ; error = 0.0410\n",
      "Iteration: 7200 ; error = 0.0410\n",
      "Iteration: 7300 ; error = 0.0411\n",
      "Iteration: 7400 ; error = 0.0411\n",
      "Iteration: 7500 ; error = 0.0410\n",
      "Iteration: 7600 ; error = 0.0410\n",
      "Iteration: 7700 ; error = 0.0410\n",
      "Iteration: 7800 ; error = 0.0410\n",
      "Iteration: 7900 ; error = 0.0409\n",
      "Iteration: 8000 ; error = 0.0409\n",
      "Iteration: 8100 ; error = 0.0409\n",
      "Iteration: 8200 ; error = 0.0408\n",
      "Iteration: 8300 ; error = 0.0409\n",
      "Iteration: 8400 ; error = 0.0409\n",
      "Iteration: 8500 ; error = 0.0409\n",
      "Iteration: 8600 ; error = 0.0409\n",
      "Iteration: 8700 ; error = 0.0408\n",
      "Iteration: 8800 ; error = 0.0408\n",
      "Iteration: 8900 ; error = 0.0408\n",
      "Iteration: 9000 ; error = 0.0408\n",
      "Iteration: 9100 ; error = 0.0408\n",
      "Iteration: 9200 ; error = 0.0408\n",
      "Iteration: 9300 ; error = 0.0408\n",
      "Iteration: 9400 ; error = 0.0408\n",
      "Iteration: 9500 ; error = 0.0408\n",
      "Iteration: 9600 ; error = 0.0407\n",
      "Iteration: 9700 ; error = 0.0407\n",
      "Iteration: 9800 ; error = 0.0408\n",
      "Iteration: 9900 ; error = 0.0407\n",
      "Iteration: 10000 ; error = 0.0407\n",
      "Learnt=\n",
      " [[4.98310779 3.00307074 3.28549611 1.01519266]\n",
      " [3.99763226 2.207354   3.07663016 1.01276062]\n",
      " [1.57652706 1.00963135 5.71488038 4.9846755 ]\n",
      " [1.01285017 0.37091408 4.80884404 3.99512921]\n",
      " [1.82542641 1.0173647  4.9885115  3.99623184]]\n"
     ]
    }
   ],
   "source": [
    "R = np.array([\n",
    "    [5, 3, 0, 1],\n",
    "    [4, 0, 0, 1],\n",
    "    [1, 1, 0, 5],\n",
    "    [1, 0, 0, 4],\n",
    "    [0, 1, 5, 4],\n",
    "])\n",
    "\n",
    "R1= np.array([\n",
    "    [5, 3, 0, 1],\n",
    "    [4, 0, 0, 1],\n",
    "    [1, 1, 0, 5],\n",
    "    [1, 0, 0, 4],\n",
    "    [0, 1, 5, 4],\n",
    "])\n",
    "\n",
    "#Set the number of values to replace. For example 20%:\n",
    "\n",
    "# Edit: changed len(mat) for mat.size\n",
    "prop = int(R.size * 0.2)\n",
    "\n",
    "#Randomly choose indices of the numpy array:\n",
    "i = [np.random.choice(range(R.shape[0])) for _ in range(prop)]\n",
    "j = [np.random.choice(range(R.shape[1])) for _ in range(prop)]\n",
    "\n",
    "#Change values with NaN\n",
    "R[i,j] = 0\n",
    "print(\"Original:\\n\",R1)\n",
    "print(\"Test Set:\\n\",R)\n",
    "R=np.rint(R)\n",
    "\n",
    "from sklearn.metrics import mean_squared_error\n",
    "mse = mean_squared_error(R, R1)\n",
    "\n",
    "print(\"MSE=\",mse**0.5)\n",
    "\n",
    "mf = MF(R, K=10000, alpha=0.01, beta=0.01, iterations=10000)\n",
    "training_process = mf.train()\n",
    "\n",
    "print(\"Learnt=\\n\",mf.full_matrix())\n"
   ]
  },
  {
   "cell_type": "code",
   "execution_count": null,
   "metadata": {},
   "outputs": [
    {
     "name": "stdout",
     "output_type": "stream",
     "text": [
      "Original:\n",
      " [[5. 0. 0.]\n",
      " [0. 0. 4.]\n",
      " [3. 0. 0.]\n",
      " ...\n",
      " [0. 0. 3.]\n",
      " [4. 0. 0.]\n",
      " [0. 3. 0.]]\n",
      "Test Set:\n",
      " [[5. 0. 0.]\n",
      " [0. 0. 0.]\n",
      " [0. 0. 0.]\n",
      " ...\n",
      " [0. 0. 3.]\n",
      " [4. 0. 0.]\n",
      " [0. 3. 0.]]\n",
      "RMSE= 0.9737214516879918\n",
      "Learnt=\n",
      " [[3.81775822 3.68859571 3.70036228]\n",
      " [3.69523794 3.56623209 3.57800652]\n",
      " [3.69523284 3.56623826 3.57801557]\n",
      " ...\n",
      " [3.63535051 3.50635783 3.5180917 ]\n",
      " [3.72342232 3.59438358 3.60615318]\n",
      " [3.64198163 3.51296124 3.52476696]]\n"
     ]
    }
   ],
   "source": [
    "R = np.array(acq_data)\n",
    "\n",
    "R1= np.array(acq_data)\n",
    "\n",
    "#Set the number of values to replace. For example 20%:\n",
    "\n",
    "# Edit: changed len(mat) for mat.size\n",
    "prop = int(R.size * 0.2)\n",
    "\n",
    "#Randomly choose indices of the numpy array:\n",
    "i = [np.random.choice(range(R.shape[0])) for _ in range(prop)]\n",
    "j = [np.random.choice(range(R.shape[1])) for _ in range(prop)]\n",
    "\n",
    "#Change values with NaN\n",
    "R[i,j] = 0\n",
    "print(\"Original:\\n\",R1)\n",
    "print(\"Test Set:\\n\",R)\n",
    "R=np.rint(R)\n",
    "\n",
    "from sklearn.metrics import mean_squared_error\n",
    "mse = mean_squared_error(R, R1)\n",
    "print(\"RMSE=\",mse**0.5)\n",
    "\n",
    "mf = MF(R, K=10000, alpha=0.01, beta=0.01, iterations=10)\n",
    "training_process = mf.train()\n",
    "\n",
    "print(\"Learnt=\\n\",mf.full_matrix())\n",
    "msef=0.0\n",
    "for i1 in range(len(i)):\n",
    "    for i2 in range(len(j)):\n",
    "        msef = msef + (R1[i,j]-(mf.full_matrix())[i,j])**2\n",
    "msef = (msef/(len(j)*len(i)))\n",
    "print(\"RMSE f=\",msef**0.5)"
   ]
  },
  {
   "cell_type": "code",
   "execution_count": null,
   "metadata": {},
   "outputs": [],
   "source": []
  }
 ],
 "metadata": {
  "kernelspec": {
   "display_name": "Python 3",
   "language": "python",
   "name": "python3"
  },
  "language_info": {
   "codemirror_mode": {
    "name": "ipython",
    "version": 3
   },
   "file_extension": ".py",
   "mimetype": "text/x-python",
   "name": "python",
   "nbconvert_exporter": "python",
   "pygments_lexer": "ipython3",
   "version": "3.6.7"
  }
 },
 "nbformat": 4,
 "nbformat_minor": 2
}
