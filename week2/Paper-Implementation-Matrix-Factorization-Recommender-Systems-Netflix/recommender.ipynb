{
 "cells": [
  {
   "cell_type": "code",
   "execution_count": 4,
   "metadata": {},
   "outputs": [
    {
     "ename": "ImportError",
     "evalue": "cannot import name 'evaluate' from 'surprise' (c:\\Users\\zin\\anaconda3\\envs\\torch\\Lib\\site-packages\\surprise\\__init__.py)",
     "output_type": "error",
     "traceback": [
      "\u001b[1;31m---------------------------------------------------------------------------\u001b[0m",
      "\u001b[1;31mImportError\u001b[0m                               Traceback (most recent call last)",
      "Cell \u001b[1;32mIn[4], line 10\u001b[0m\n\u001b[0;32m      8\u001b[0m \u001b[39mimport\u001b[39;00m \u001b[39mmatplotlib\u001b[39;00m\u001b[39m.\u001b[39;00m\u001b[39mpyplot\u001b[39;00m \u001b[39mas\u001b[39;00m \u001b[39mplt\u001b[39;00m\n\u001b[0;32m      9\u001b[0m \u001b[39mimport\u001b[39;00m \u001b[39mseaborn\u001b[39;00m \u001b[39mas\u001b[39;00m \u001b[39msns\u001b[39;00m\n\u001b[1;32m---> 10\u001b[0m \u001b[39mfrom\u001b[39;00m \u001b[39msurprise\u001b[39;00m \u001b[39mimport\u001b[39;00m Reader, Dataset, SVD, evaluate\n\u001b[0;32m     11\u001b[0m sns\u001b[39m.\u001b[39mset_style(\u001b[39m\"\u001b[39m\u001b[39mdarkgrid\u001b[39m\u001b[39m\"\u001b[39m)\n\u001b[0;32m     13\u001b[0m \u001b[39mfrom\u001b[39;00m \u001b[39mcvxpy\u001b[39;00m \u001b[39mimport\u001b[39;00m \u001b[39m*\u001b[39m\n",
      "\u001b[1;31mImportError\u001b[0m: cannot import name 'evaluate' from 'surprise' (c:\\Users\\zin\\anaconda3\\envs\\torch\\Lib\\site-packages\\surprise\\__init__.py)"
     ]
    }
   ],
   "source": [
    "#Setting up prerequisites\n",
    "import pandas as pd\n",
    "import numpy as np\n",
    "import math\n",
    "import re\n",
    "import sklearn\n",
    "from scipy.sparse import csr_matrix\n",
    "import matplotlib.pyplot as plt\n",
    "import seaborn as sns\n",
    "from surprise import Reader, Dataset, SVD\n",
    "from surprise.model_selection import cross_validate\n",
    "sns.set_style(\"darkgrid\")\n",
    "\n",
    "from cvxpy import *\n",
    "from numpy import matrix\n",
    "\n",
    "print(\"Setup Complete\\n\")"
   ]
  },
  {
   "cell_type": "code",
   "execution_count": 117,
   "metadata": {},
   "outputs": [
    {
     "name": "stdout",
     "output_type": "stream",
     "text": [
      "Dataset 1 shape: (1024, 3)\n",
      "-Dataset examples-\n",
      "      Cust_Id  Rating        Date\n",
      "0          1:     NaN         NaN\n",
      "100   2630337     5.0  20050310.0\n",
      "200    573434     4.0  20040526.0\n",
      "300    638824     5.0  20040519.0\n",
      "400   1653834     4.0  20040822.0\n",
      "500   1033930     3.0  20050811.0\n",
      "600    349407     5.0  20050102.0\n",
      "700    656399     4.0  20030920.0\n",
      "800   1456369     4.0  20030708.0\n",
      "900    253037     3.0  20050805.0\n",
      "1000  1369550     3.0  20041011.0\n",
      "float64\n"
     ]
    }
   ],
   "source": [
    "df1 = pd.read_csv('netflix-prize-data/toy_combined_data.txt', header = None, names = ['Cust_Id', 'Rating', 'Date'], usecols = [0,1,2])\n",
    "df1['Rating'] = df1['Rating'].astype(float)\n",
    "df1['Date'] = df1['Date'].astype(str)\n",
    "df1['Date'] = df1['Date'].map( lambda s : (s[:4])+(s[5:7])+(s[8:]))\n",
    "df1['Date'] = df1['Date'].astype(float)\n",
    "print('Dataset 1 shape: {}'.format(df1.shape))\n",
    "print('-Dataset examples-')\n",
    "print(df1.iloc[::100, :])\n",
    "print(df1['Date'].dtype)\n",
    "df = df1"
   ]
  },
  {
   "cell_type": "code",
   "execution_count": 118,
   "metadata": {},
   "outputs": [
    {
     "name": "stdout",
     "output_type": "stream",
     "text": [
      "See Overview of the Data\n"
     ]
    },
    {
     "data": {
      "image/png": "[encoded data removed]",
      "text/plain": [
       "<Figure size 1080x720 with 1 Axes>"
      ]
     },
     "metadata": {},
     "output_type": "display_data"
    }
   ],
   "source": [
    "#Seeing the distribution of ratings given by the users\n",
    "print(\"See Overview of the Data\")\n",
    "p = df.groupby('Rating')['Rating'].agg(['count'])\n",
    "# get movie count\n",
    "movie_count = df.isnull().sum()[1]\n",
    "# get customer count\n",
    "cust_count = df['Cust_Id'].nunique() - movie_count\n",
    "# get rating count\n",
    "rating_count = df['Cust_Id'].count() - movie_count\n",
    "ax = p.plot(kind = 'barh', legend = False, figsize = (15,10))\n",
    "plt.title('Total pool: {:,} Movies, {:,} customers, {:,} ratings given'.format(movie_count, cust_count, rating_count), fontsize=20)\n",
    "plt.axis('off')\n",
    "for i in range(1,6):\n",
    "    ax.text(p.iloc[i-1][0]/4, i-1, 'Rated {}: {:.0f}%'.format(i, p.iloc[i-1][0]*100 / p.sum()[0]), color = 'white', weight = 'bold')"
   ]
  },
  {
   "cell_type": "code",
   "execution_count": 119,
   "metadata": {},
   "outputs": [
    {
     "name": "stdout",
     "output_type": "stream",
     "text": [
      "Movie IDs extracted from the extra rows given\n"
     ]
    }
   ],
   "source": [
    "#Adding movie IDs to the dataset\n",
    "movie_np = []\n",
    "movie_id = 0\n",
    "for x in range(df.shape[0]):\n",
    "    if(np.isnan(df.iloc[x]['Rating'])):\n",
    "        movie_id = movie_id+1\n",
    "    movie_np = np.append(movie_np,movie_id)\n",
    "\n",
    "#print(movie_np)\n",
    "#print(len(movie_np))\n",
    "df['Movie_Id'] = movie_np.astype(int)\n",
    "print(\"Movie IDs extracted from the extra rows given\")"
   ]
  },
  {
   "cell_type": "code",
   "execution_count": 120,
   "metadata": {},
   "outputs": [
    {
     "name": "stdout",
     "output_type": "stream",
     "text": [
      "-Dataset examples-\n",
      "      Cust_Id  Rating        Date  Movie_Id\n",
      "1     1488844     3.0  20050906.0         1\n",
      "101   1155747     3.0  20050703.0         1\n",
      "201   1141189     4.0  20041215.0         1\n",
      "301   2256485     1.0  20040819.0         1\n",
      "401   2322840     3.0  20050712.0         1\n",
      "501     45117     5.0  20050815.0         1\n",
      "602   2596999     4.0  20051007.0         2\n",
      "703   1644750     3.0  20030319.0         3\n",
      "803    372528     3.0  20040630.0         3\n",
      "903   1115632     3.0  20031124.0         3\n",
      "1003  2085230     4.0  20040315.0         3\n",
      "\n",
      "\n",
      "These are the final datatypes of the dataset\n",
      "Cust_Id       int64\n",
      "Rating      float64\n",
      "Date        float64\n",
      "Movie_Id      int64\n",
      "dtype: object\n"
     ]
    },
    {
     "name": "stderr",
     "output_type": "stream",
     "text": [
      "/usr/lib/python3/dist-packages/ipykernel_launcher.py:3: SettingWithCopyWarning: \n",
      "A value is trying to be set on a copy of a slice from a DataFrame.\n",
      "Try using .loc[row_indexer,col_indexer] = value instead\n",
      "\n",
      "See the caveats in the documentation: http://pandas.pydata.org/pandas-docs/stable/indexing.html#indexing-view-versus-copy\n",
      "  This is separate from the ipykernel package so we can avoid doing imports until\n"
     ]
    }
   ],
   "source": [
    "# remove the extra Movie ID rows\n",
    "df = df[pd.notnull(df['Rating'])]\n",
    "df['Cust_Id'] = df['Cust_Id'].astype(int)\n",
    "print('-Dataset examples-')\n",
    "print(df.iloc[::100, :])\n",
    "\n",
    "\n",
    "print(\"\\n\\nThese are the final datatypes of the dataset\")\n",
    "print(df.dtypes)"
   ]
  },
  {
   "cell_type": "code",
   "execution_count": 121,
   "metadata": {},
   "outputs": [
    {
     "name": "stdout",
     "output_type": "stream",
     "text": [
      "(1009, 3)\n"
     ]
    }
   ],
   "source": [
    "#Creating Data Matrix\n",
    "df_matrix=pd.pivot_table(df,values='Rating',index='Cust_Id',columns='Movie_Id')\n",
    "print(df_matrix.shape)"
   ]
  },
  {
   "cell_type": "code",
   "execution_count": 122,
   "metadata": {},
   "outputs": [
    {
     "name": "stdout",
     "output_type": "stream",
     "text": [
      "See some Movie ID- Movie Title Mapping : \n",
      "\n",
      "            Year                          Name\n",
      "Movie_Id                                      \n",
      "1         2003.0               Dinosaur Planet\n",
      "2         2004.0    Isle of Man TT 2004 Review\n",
      "3         1997.0                     Character\n",
      "4         1994.0  Paula Abdul's Get Up & Dance\n",
      "5         2004.0      The Rise and Fall of ECW\n",
      "6         1997.0                          Sick\n",
      "7         1992.0                         8 Man\n",
      "8         2004.0    What the #$*! Do We Know!?\n"
     ]
    }
   ],
   "source": [
    "#Loading the Movie ID- Movie Title Mapping File\n",
    "\n",
    "df_title = pd.read_csv('netflix-prize-data/movie_titles.csv', encoding = \"ISO-8859-1\", header = None, names = ['Movie_Id', 'Year', 'Name'])\n",
    "df_title.set_index('Movie_Id', inplace = True)\n",
    "print(\"See some Movie ID- Movie Title Mapping : \\n\")\n",
    "print (df_title.head(8))"
   ]
  },
  {
   "cell_type": "code",
   "execution_count": 123,
   "metadata": {},
   "outputs": [
    {
     "name": "stdout",
     "output_type": "stream",
     "text": [
      "\n",
      "\n",
      "Data Cleaning Complete.\n",
      " See head of the Data Matrix:\n",
      "\n",
      "Movie_Id    1   2    3\n",
      "Cust_Id               \n",
      "915       5.0 NaN  NaN\n",
      "1333      NaN NaN  4.0\n",
      "2442      3.0 NaN  NaN\n",
      "3321      3.0 NaN  NaN\n",
      "4326      4.0 NaN  NaN\n",
      "\n",
      "Num of movies = 3\n",
      "Num of users = 1009\n"
     ]
    }
   ],
   "source": [
    "print(\"\\n\\nData Cleaning Complete.\\n See head of the Data Matrix:\\n\")\n",
    "print(df_matrix.head())\n",
    "\n",
    "n_movies = movie_count\n",
    "n_customers = cust_count\n",
    "\n",
    "print(\"\\nNum of movies =\", movie_count)\n",
    "print(\"Num of users =\", cust_count)"
   ]
  },
  {
   "cell_type": "code",
   "execution_count": 124,
   "metadata": {},
   "outputs": [
    {
     "name": "stdout",
     "output_type": "stream",
     "text": [
      "Movie_Id    1    2    3\n",
      "Cust_Id                \n",
      "915       5.0  0.0  0.0\n",
      "1333      0.0  0.0  4.0\n",
      "2442      3.0  0.0  0.0\n",
      "3321      3.0  0.0  0.0\n",
      "4326      4.0  0.0  0.0\n"
     ]
    }
   ],
   "source": [
    "#Choosing the number of latent attributes\n",
    "n_attr= 100*1000000\n",
    "#print(type(n_attr),type(n_movies), type(n_customers))\n",
    "Q = Variable((n_attr,n_movies))\n",
    "P = Variable((n_attr, n_customers))\n",
    "\n",
    "\n",
    "\n",
    "acq_data = df_matrix.fillna(0.0)\n",
    "print(acq_data.head())\n",
    "\n"
   ]
  },
  {
   "cell_type": "code",
   "execution_count": 125,
   "metadata": {},
   "outputs": [],
   "source": [
    "class MF():\n",
    "\n",
    "    def __init__(self, R, K, alpha, beta, iterations):\n",
    "        \"\"\"\n",
    "        Perform matrix factorization to predict empty\n",
    "        entries in a matrix.\n",
    "\n",
    "        Arguments\n",
    "        - R (ndarray)   : user-item rating matrix\n",
    "        - K (int)       : number of latent dimensions\n",
    "        - alpha (float) : learning rate\n",
    "        - beta (float)  : regularization parameter\n",
    "        \"\"\"\n",
    "\n",
    "        self.R = R\n",
    "        self.num_users, self.num_items = R.shape\n",
    "        self.K = K\n",
    "        self.alpha = alpha\n",
    "        self.beta = beta\n",
    "        self.iterations = iterations\n",
    "\n",
    "    def train(self):\n",
    "        # Initialize user and item latent feature matrice\n",
    "        self.P = np.random.normal(scale=1./self.K, size=(self.num_users, self.K))\n",
    "        self.Q = np.random.normal(scale=1./self.K, size=(self.num_items, self.K))\n",
    "\n",
    "        # Initialize the biases\n",
    "        self.b_u = np.zeros(self.num_users)\n",
    "        self.b_i = np.zeros(self.num_items)\n",
    "        self.b = np.mean(self.R[np.where(self.R != 0)])\n",
    "\n",
    "        # Create a list of training samples\n",
    "        self.samples = [\n",
    "            (i, j, self.R[i, j])\n",
    "            for i in range(self.num_users)\n",
    "            for j in range(self.num_items)\n",
    "            if self.R[i, j] > 0\n",
    "        ]\n",
    "\n",
    "        # Perform stochastic gradient descent for number of iterations\n",
    "        training_process = []\n",
    "        for i in range(self.iterations):\n",
    "            np.random.shuffle(self.samples)\n",
    "            self.sgd()\n",
    "            mse = self.mse()\n",
    "            training_process.append((i, mse))\n",
    "            #if (i+1) % 100 == 0:\n",
    "            #    print(\"Iteration: %d ; error = %.4f\" % (i+1, mse))\n",
    "\n",
    "        return training_process\n",
    "\n",
    "    def mse(self):\n",
    "        \"\"\"\n",
    "        A function to compute the total mean square error\n",
    "        \"\"\"\n",
    "        xs, ys = self.R.nonzero()\n",
    "        predicted = self.full_matrix()\n",
    "        error = 0\n",
    "        for x, y in zip(xs, ys):\n",
    "            error += pow(self.R[x, y] - predicted[x, y], 2)\n",
    "        return np.sqrt(error)\n",
    "\n",
    "    def sgd(self):\n",
    "        \"\"\"\n",
    "        Perform stochastic graident descent\n",
    "        \"\"\"\n",
    "        for i, j, r in self.samples:\n",
    "            # Computer prediction and error\n",
    "            prediction = self.get_rating(i, j)\n",
    "            e = (r - prediction)\n",
    "\n",
    "            # Update biases\n",
    "            self.b_u[i] += self.alpha * (e - self.beta * self.b_u[i])\n",
    "            self.b_i[j] += self.alpha * (e - self.beta * self.b_i[j])\n",
    "\n",
    "            # Update user and item latent feature matrices\n",
    "            self.P[i, :] += self.alpha * (e * self.Q[j, :] - self.beta * self.P[i,:])\n",
    "            self.Q[j, :] += self.alpha * (e * self.P[i, :] - self.beta * self.Q[j,:])\n",
    "\n",
    "    def get_rating(self, i, j):\n",
    "        \"\"\"\n",
    "        Get the predicted rating of user i and item j\n",
    "        \"\"\"\n",
    "        prediction = self.b + self.b_u[i] + self.b_i[j] + self.P[i, :].dot(self.Q[j, :].T)\n",
    "        return prediction\n",
    "\n",
    "    def full_matrix(self):\n",
    "        \"\"\"\n",
    "        Computer the full matrix using the resultant biases, P and Q\n",
    "        \"\"\"\n",
    "        return self.b + self.b_u[:,np.newaxis] + self.b_i[np.newaxis:,] + self.P.dot(self.Q.T)"
   ]
  },
  {
   "cell_type": "code",
   "execution_count": 101,
   "metadata": {},
   "outputs": [
    {
     "name": "stdout",
     "output_type": "stream",
     "text": [
      "Original:\n",
      " [[5 3 0 1]\n",
      " [4 0 0 1]\n",
      " [1 1 0 5]\n",
      " [1 0 0 4]\n",
      " [0 1 5 4]]\n",
      "Test Set:\n",
      " [[5 3 0 1]\n",
      " [4 0 0 1]\n",
      " [1 1 0 5]\n",
      " [0 0 0 4]\n",
      " [0 1 5 0]]\n",
      "MSE= 0.9219544457292888\n",
      "\n",
      "Training ...\n",
      "\n",
      "Learnt=\n",
      " [[5. 3. 3. 1.]\n",
      " [4. 2. 3. 1.]\n",
      " [1. 1. 6. 5.]\n",
      " [3. 2. 5. 4.]\n",
      " [1. 1. 5. 4.]]\n",
      "RMSE f= 0.8660254037844386\n"
     ]
    }
   ],
   "source": [
    "#This cell works on Toy Dataset\n",
    "#The next cell is for real data\n",
    "R = np.array([\n",
    "    [5, 3, 0, 1],\n",
    "    [4, 0, 0, 1],\n",
    "    [1, 1, 0, 5],\n",
    "    [1, 0, 0, 4],\n",
    "    [0, 1, 5, 4],\n",
    "])\n",
    "\n",
    "R1= np.array([\n",
    "    [5, 3, 0, 1],\n",
    "    [4, 0, 0, 1],\n",
    "    [1, 1, 0, 5],\n",
    "    [1, 0, 0, 4],\n",
    "    [0, 1, 5, 4],\n",
    "])\n",
    "\n",
    "#Set the number of values to replace. For example 20%:\n",
    "prop = int(R.size * 0.2)\n",
    "\n",
    "#Randomly choose indices of the numpy array:\n",
    "i = [np.random.choice(range(R.shape[0])) for _ in range(prop)]\n",
    "j = [np.random.choice(range(R.shape[1])) for _ in range(prop)]\n",
    "\n",
    "#Change values with 0\n",
    "R[i,j] = 0\n",
    "print(\"Original:\\n\",R1)\n",
    "print(\"Test Set:\\n\",R)\n",
    "R=np.rint(R)\n",
    "\n",
    "from sklearn.metrics import mean_squared_error\n",
    "mse = mean_squared_error(R, R1)\n",
    "\n",
    "print(\"MSE=\",mse**0.5)\n",
    "\n",
    "print(\"\\nTraining ...\\n\")\n",
    "\n",
    "\n",
    "mf = MF(R, K=10000, alpha=0.01, beta=0.01, iterations=10000)\n",
    "training_process = mf.train()\n",
    "L=np.rint(mf.full_matrix())\n",
    "\n",
    "\n",
    "\n",
    "print(\"Learnt=\\n\",L)\n",
    "msef=0.0\n",
    "for i1 in range(len(i)):\n",
    "    for i2 in range(len(j)):\n",
    "        if R1.item(i[i1],j[i2])!=0:\n",
    "            msef = msef + (R1.item((i[i1],j[i2]))-(L).item((i[i1],j[i2])))**2\n",
    "msef = (msef/(len(j)*len(i)))\n",
    "print(\"RMSE f=\",msef**0.5)"
   ]
  },
  {
   "cell_type": "code",
   "execution_count": 139,
   "metadata": {},
   "outputs": [
    {
     "name": "stdout",
     "output_type": "stream",
     "text": [
      "Original:\n",
      " [[5. 0. 0.]\n",
      " [0. 0. 4.]\n",
      " [3. 0. 0.]\n",
      " ...\n",
      " [0. 0. 3.]\n",
      " [4. 0. 0.]\n",
      " [0. 3. 0.]]\n",
      "Test Set:\n",
      " [[5. 0. 0.]\n",
      " [0. 0. 4.]\n",
      " [3. 0. 0.]\n",
      " ...\n",
      " [0. 0. 3.]\n",
      " [4. 0. 0.]\n",
      " [0. 3. 0.]]\n",
      "MSE= 0.9522806592149013\n",
      "\n",
      "Training ...\n",
      "\n",
      "\n",
      "Done\n",
      "\n"
     ]
    }
   ],
   "source": [
    "#This cell works on Real DataSet\n",
    "\n",
    "R = np.array(acq_data)\n",
    "\n",
    "R1= np.array(acq_data)\n",
    "\n",
    "#Set the number of values to replace. For example 20%:\n",
    "prop = int(R.size * 0.2)\n",
    "\n",
    "#Randomly choose indices of the numpy array:\n",
    "i = [np.random.choice(range(R.shape[0])) for _ in range(prop)]\n",
    "j = [np.random.choice(range(R.shape[1])) for _ in range(prop)]\n",
    "\n",
    "#Change values with 0\n",
    "R[i,j] = 0\n",
    "print(\"Original:\\n\",R1)\n",
    "print(\"Test Set:\\n\",R)\n",
    "R=np.rint(R)\n",
    "\n",
    "from sklearn.metrics import mean_squared_error\n",
    "mse = mean_squared_error(R, R1)\n",
    "\n",
    "print(\"MSE=\",mse**0.5)\n",
    "\n",
    "print(\"\\nTraining ...\\n\")\n",
    "\n",
    "\n",
    "mf = MF(R, K=10000, alpha=0.01, beta=0.01, iterations=100)\n",
    "training_process = mf.train()\n",
    "L=np.rint(mf.full_matrix())\n",
    "\n",
    "print(\"\\nDone\\n\")"
   ]
  },
  {
   "cell_type": "code",
   "execution_count": 138,
   "metadata": {},
   "outputs": [
    {
     "name": "stdout",
     "output_type": "stream",
     "text": [
      "Minimizing Error on Training Set:\n",
      "\n"
     ]
    },
    {
     "data": {
      "image/png": "[encoded data removed]",
      "text/plain": [
       "<Figure size 1152x288 with 1 Axes>"
      ]
     },
     "metadata": {},
     "output_type": "display_data"
    }
   ],
   "source": [
    "x = [x for x, y in training_process]\n",
    "y = [y for x, y in training_process]\n",
    "x = x[::10]\n",
    "y = y[::10]\n",
    "plt.figure(figsize=((16,4)))\n",
    "plt.plot(x, np.sqrt(y))\n",
    "plt.xticks(x, x)\n",
    "\n",
    "print(\"Minimizing Error on Training Set:\\n\")\n",
    "plt.xlabel(\"Iterations\")\n",
    "plt.ylabel(\"Root Mean Square Error\")\n",
    "plt.grid(axis=\"y\")"
   ]
  },
  {
   "cell_type": "code",
   "execution_count": 135,
   "metadata": {},
   "outputs": [
    {
     "name": "stdout",
     "output_type": "stream",
     "text": [
      "Learnt=\n",
      " [[4.92519455 4.45237587 4.03105201]\n",
      " [3.92656424 3.75922101 3.97495875]\n",
      " [3.03875459 3.06278695 3.34900645]\n",
      " ...\n",
      " [3.76684225 3.59991078 3.61421131]\n",
      " [3.76735095 3.6001197  3.61418442]\n",
      " [3.33974773 3.02411301 3.35034179]]\n",
      "\n",
      "Rating predictions=\n",
      " [[5. 4. 4.]\n",
      " [4. 4. 4.]\n",
      " [3. 3. 3.]\n",
      " ...\n",
      " [4. 4. 4.]\n",
      " [4. 4. 4.]\n",
      " [3. 3. 3.]]\n",
      "\n",
      "P x Q:\n",
      "[[4.92519455 4.45237587 4.03105201]\n",
      " [3.92656424 3.75922101 3.97495875]\n",
      " [3.03875459 3.06278695 3.34900645]\n",
      " ...\n",
      " [3.76684225 3.59991078 3.61421131]\n",
      " [3.76735095 3.6001197  3.61418442]\n",
      " [3.33974773 3.02411301 3.35034179]]\n",
      "\n",
      "Global bias:\n",
      "3.688861985472155\n",
      "\n",
      "User bias:\n",
      "[ 0.42868902  0.16245438 -0.27258023 ...  0.          0.\n",
      " -0.2687577 ]\n",
      "\n",
      "Item bias:\n",
      "[ 0.07818754 -0.08891514 -0.07470079]\n",
      "\n",
      "Finding Error on test set...\n",
      "\n",
      "RMSE f= 0.46105629990963165\n"
     ]
    }
   ],
   "source": [
    "print(\"Learnt=\\n\",mf.full_matrix())\n",
    "print(\"\\nRating predictions=\\n\",L)\n",
    "\n",
    "print()\n",
    "print(\"P x Q:\")\n",
    "print(mf.full_matrix())\n",
    "print()\n",
    "print(\"Global bias:\")\n",
    "print(mf.b)\n",
    "print()\n",
    "print(\"User bias:\")\n",
    "print(mf.b_u)\n",
    "print()\n",
    "print(\"Item bias:\")\n",
    "print(mf.b_i)\n",
    "\n",
    "print(\"\\nFinding Error on test set...\\n\")\n",
    "msef=0.0\n",
    "for i1 in range(len(i)):\n",
    "    for i2 in range(len(j)):\n",
    "        if R1.item(i[i1],j[i2])!=0:\n",
    "            msef = msef + (R1.item((i[i1],j[i2]))-(L).item((i[i1],j[i2])))**2\n",
    "msef = (msef/(len(j)*len(i)))\n",
    "print(\"RMSE f=\",msef**0.5)"
   ]
  },
  {
   "cell_type": "code",
   "execution_count": null,
   "metadata": {},
   "outputs": [],
   "source": []
  }
 ],
 "metadata": {
  "kernelspec": {
   "display_name": "Python 3",
   "language": "python",
   "name": "python3"
  },
  "language_info": {
   "codemirror_mode": {
    "name": "ipython",
    "version": 3
   },
   "file_extension": ".py",
   "mimetype": "text/x-python",
   "name": "python",
   "nbconvert_exporter": "python",
   "pygments_lexer": "ipython3",
   "version": "3.11.3"
  }
 },
 "nbformat": 4,
 "nbformat_minor": 2
}
